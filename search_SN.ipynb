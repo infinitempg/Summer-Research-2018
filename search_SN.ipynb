{
 "cells": [
  {
   "cell_type": "markdown",
   "metadata": {},
   "source": [
    "# Searching Keck for SN images"
   ]
  },
  {
   "cell_type": "code",
   "execution_count": 1,
   "metadata": {},
   "outputs": [],
   "source": [
    "import pandas as pd\n",
    "import numpy as np"
   ]
  },
  {
   "cell_type": "code",
   "execution_count": 2,
   "metadata": {},
   "outputs": [],
   "source": [
    "snList = pd.read_csv('returned IIns - Sheet3.csv')"
   ]
  },
  {
   "cell_type": "code",
   "execution_count": 75,
   "metadata": {},
   "outputs": [
    {
     "ename": "AttributeError",
     "evalue": "'Series' object has no attribute 'lstrip'",
     "output_type": "error",
     "traceback": [
      "\u001b[0;31m---------------------------------------------------------------------------\u001b[0m",
      "\u001b[0;31mAttributeError\u001b[0m                            Traceback (most recent call last)",
      "\u001b[0;32m<ipython-input-75-04aca3a763db>\u001b[0m in \u001b[0;36m<module>\u001b[0;34m\u001b[0m\n\u001b[0;32m----> 1\u001b[0;31m \u001b[0msnList\u001b[0m\u001b[0;34m[\u001b[0m\u001b[0;34m'Object'\u001b[0m\u001b[0;34m]\u001b[0m\u001b[0;34m.\u001b[0m\u001b[0mstr\u001b[0m\u001b[0;34m.\u001b[0m\u001b[0msplit\u001b[0m\u001b[0;34m(\u001b[0m\u001b[0;34m' '\u001b[0m\u001b[0;34m,\u001b[0m\u001b[0mexpand\u001b[0m\u001b[0;34m=\u001b[0m\u001b[0;32mTrue\u001b[0m\u001b[0;34m)\u001b[0m\u001b[0;34m[\u001b[0m\u001b[0;36m1\u001b[0m\u001b[0;34m]\u001b[0m\u001b[0;34m.\u001b[0m\u001b[0mlstrip\u001b[0m\u001b[0;34m(\u001b[0m\u001b[0;36m2\u001b[0m\u001b[0;34m)\u001b[0m\u001b[0;34m\u001b[0m\u001b[0;34m\u001b[0m\u001b[0m\n\u001b[0m",
      "\u001b[0;32m~/anaconda3/lib/python3.7/site-packages/pandas/core/generic.py\u001b[0m in \u001b[0;36m__getattr__\u001b[0;34m(self, name)\u001b[0m\n\u001b[1;32m   5272\u001b[0m             \u001b[0;32mif\u001b[0m \u001b[0mself\u001b[0m\u001b[0;34m.\u001b[0m\u001b[0m_info_axis\u001b[0m\u001b[0;34m.\u001b[0m\u001b[0m_can_hold_identifiers_and_holds_name\u001b[0m\u001b[0;34m(\u001b[0m\u001b[0mname\u001b[0m\u001b[0;34m)\u001b[0m\u001b[0;34m:\u001b[0m\u001b[0;34m\u001b[0m\u001b[0;34m\u001b[0m\u001b[0m\n\u001b[1;32m   5273\u001b[0m                 \u001b[0;32mreturn\u001b[0m \u001b[0mself\u001b[0m\u001b[0;34m[\u001b[0m\u001b[0mname\u001b[0m\u001b[0;34m]\u001b[0m\u001b[0;34m\u001b[0m\u001b[0;34m\u001b[0m\u001b[0m\n\u001b[0;32m-> 5274\u001b[0;31m             \u001b[0;32mreturn\u001b[0m \u001b[0mobject\u001b[0m\u001b[0;34m.\u001b[0m\u001b[0m__getattribute__\u001b[0m\u001b[0;34m(\u001b[0m\u001b[0mself\u001b[0m\u001b[0;34m,\u001b[0m \u001b[0mname\u001b[0m\u001b[0;34m)\u001b[0m\u001b[0;34m\u001b[0m\u001b[0;34m\u001b[0m\u001b[0m\n\u001b[0m\u001b[1;32m   5275\u001b[0m \u001b[0;34m\u001b[0m\u001b[0m\n\u001b[1;32m   5276\u001b[0m     \u001b[0;32mdef\u001b[0m \u001b[0m__setattr__\u001b[0m\u001b[0;34m(\u001b[0m\u001b[0mself\u001b[0m\u001b[0;34m,\u001b[0m \u001b[0mname\u001b[0m\u001b[0;34m:\u001b[0m \u001b[0mstr\u001b[0m\u001b[0;34m,\u001b[0m \u001b[0mvalue\u001b[0m\u001b[0;34m)\u001b[0m \u001b[0;34m->\u001b[0m \u001b[0;32mNone\u001b[0m\u001b[0;34m:\u001b[0m\u001b[0;34m\u001b[0m\u001b[0;34m\u001b[0m\u001b[0m\n",
      "\u001b[0;31mAttributeError\u001b[0m: 'Series' object has no attribute 'lstrip'"
     ]
    }
   ],
   "source": [
    "snList['Object'].str.split(' ',expand=True)[1]"
   ]
  },
  {
   "cell_type": "code",
   "execution_count": 77,
   "metadata": {},
   "outputs": [],
   "source": [
    "snList['Name'] = snList['Object'].str.split(' ',expand=True)[1].str.slice(start=2)"
   ]
  },
  {
   "cell_type": "code",
   "execution_count": 78,
   "metadata": {},
   "outputs": [
    {
     "data": {
      "text/html": [
       "<div>\n",
       "<style scoped>\n",
       "    .dataframe tbody tr th:only-of-type {\n",
       "        vertical-align: middle;\n",
       "    }\n",
       "\n",
       "    .dataframe tbody tr th {\n",
       "        vertical-align: top;\n",
       "    }\n",
       "\n",
       "    .dataframe thead th {\n",
       "        text-align: right;\n",
       "    }\n",
       "</style>\n",
       "<table border=\"1\" class=\"dataframe\">\n",
       "  <thead>\n",
       "    <tr style=\"text-align: right;\">\n",
       "      <th></th>\n",
       "      <th>Object</th>\n",
       "      <th>Name</th>\n",
       "    </tr>\n",
       "  </thead>\n",
       "  <tbody>\n",
       "    <tr>\n",
       "      <th>0</th>\n",
       "      <td>SN 2019qyl</td>\n",
       "      <td>19qyl</td>\n",
       "    </tr>\n",
       "    <tr>\n",
       "      <th>1</th>\n",
       "      <td>SN 2019npx</td>\n",
       "      <td>19npx</td>\n",
       "    </tr>\n",
       "    <tr>\n",
       "      <th>2</th>\n",
       "      <td>SN 2019mom</td>\n",
       "      <td>19mom</td>\n",
       "    </tr>\n",
       "    <tr>\n",
       "      <th>3</th>\n",
       "      <td>SN 2019mce</td>\n",
       "      <td>19mce</td>\n",
       "    </tr>\n",
       "    <tr>\n",
       "      <th>4</th>\n",
       "      <td>SN 2019lub</td>\n",
       "      <td>19lub</td>\n",
       "    </tr>\n",
       "    <tr>\n",
       "      <th>...</th>\n",
       "      <td>...</td>\n",
       "      <td>...</td>\n",
       "    </tr>\n",
       "    <tr>\n",
       "      <th>299</th>\n",
       "      <td>SN 1996L</td>\n",
       "      <td>96L</td>\n",
       "    </tr>\n",
       "    <tr>\n",
       "      <th>300</th>\n",
       "      <td>SN 1995aa</td>\n",
       "      <td>95aa</td>\n",
       "    </tr>\n",
       "    <tr>\n",
       "      <th>301</th>\n",
       "      <td>SN 1995N</td>\n",
       "      <td>95N</td>\n",
       "    </tr>\n",
       "    <tr>\n",
       "      <th>302</th>\n",
       "      <td>SN 1994ak</td>\n",
       "      <td>94ak</td>\n",
       "    </tr>\n",
       "    <tr>\n",
       "      <th>303</th>\n",
       "      <td>SN 1994Y</td>\n",
       "      <td>94Y</td>\n",
       "    </tr>\n",
       "  </tbody>\n",
       "</table>\n",
       "<p>304 rows × 2 columns</p>\n",
       "</div>"
      ],
      "text/plain": [
       "         Object   Name\n",
       "0    SN 2019qyl  19qyl\n",
       "1    SN 2019npx  19npx\n",
       "2    SN 2019mom  19mom\n",
       "3    SN 2019mce  19mce\n",
       "4    SN 2019lub  19lub\n",
       "..          ...    ...\n",
       "299    SN 1996L    96L\n",
       "300   SN 1995aa   95aa\n",
       "301    SN 1995N    95N\n",
       "302   SN 1994ak   94ak\n",
       "303    SN 1994Y    94Y\n",
       "\n",
       "[304 rows x 2 columns]"
      ]
     },
     "execution_count": 78,
     "metadata": {},
     "output_type": "execute_result"
    }
   ],
   "source": [
    "snList"
   ]
  },
  {
   "cell_type": "code",
   "execution_count": 79,
   "metadata": {},
   "outputs": [],
   "source": [
    "deimosList = pd.read_csv('deimos.csv')"
   ]
  },
  {
   "cell_type": "code",
   "execution_count": 80,
   "metadata": {},
   "outputs": [
    {
     "data": {
      "text/plain": [
       "Index(['koaid', 'instrument', 'targname', 'koaimtyp', 'frameno', 'ra', 'dec',\n",
       "       'date_obs', 'ut', 'elaptime', 'semid', 'proginst', 'progpi', 'progtitl',\n",
       "       'fileurl'],\n",
       "      dtype='object')"
      ]
     },
     "execution_count": 80,
     "metadata": {},
     "output_type": "execute_result"
    }
   ],
   "source": [
    "deimosList.columns"
   ]
  },
  {
   "cell_type": "code",
   "execution_count": 81,
   "metadata": {},
   "outputs": [],
   "source": [
    "deimosSNList = deimosList[deimosList.targname.str.contains('SN|sn',regex=True,na=False)]"
   ]
  },
  {
   "cell_type": "code",
   "execution_count": 82,
   "metadata": {},
   "outputs": [],
   "source": [
    "deimosIInList = []\n",
    "for i in range(len(snList)):\n",
    "    IInDF = deimosSNList[deimosSNList.targname.str.contains(snList.iloc[i].Name,na=False)]\n",
    "    if len(IInDF) > 0:\n",
    "        deimosIInList.append(IInDF)"
   ]
  },
  {
   "cell_type": "code",
   "execution_count": 88,
   "metadata": {},
   "outputs": [
    {
     "data": {
      "text/plain": [
       "29"
      ]
     },
     "execution_count": 88,
     "metadata": {},
     "output_type": "execute_result"
    }
   ],
   "source": [
    "len(deimosIInList)"
   ]
  },
  {
   "cell_type": "code",
   "execution_count": 95,
   "metadata": {},
   "outputs": [
    {
     "data": {
      "text/html": [
       "<div>\n",
       "<style scoped>\n",
       "    .dataframe tbody tr th:only-of-type {\n",
       "        vertical-align: middle;\n",
       "    }\n",
       "\n",
       "    .dataframe tbody tr th {\n",
       "        vertical-align: top;\n",
       "    }\n",
       "\n",
       "    .dataframe thead th {\n",
       "        text-align: right;\n",
       "    }\n",
       "</style>\n",
       "<table border=\"1\" class=\"dataframe\">\n",
       "  <thead>\n",
       "    <tr style=\"text-align: right;\">\n",
       "      <th></th>\n",
       "      <th>koaid</th>\n",
       "      <th>instrument</th>\n",
       "      <th>targname</th>\n",
       "      <th>koaimtyp</th>\n",
       "      <th>frameno</th>\n",
       "      <th>ra</th>\n",
       "      <th>dec</th>\n",
       "      <th>date_obs</th>\n",
       "      <th>ut</th>\n",
       "      <th>elaptime</th>\n",
       "      <th>semid</th>\n",
       "      <th>proginst</th>\n",
       "      <th>progpi</th>\n",
       "      <th>progtitl</th>\n",
       "      <th>fileurl</th>\n",
       "    </tr>\n",
       "  </thead>\n",
       "  <tbody>\n",
       "    <tr>\n",
       "      <th>118447</th>\n",
       "      <td>DE.20141121.55559.fits</td>\n",
       "      <td>DEIMOS</td>\n",
       "      <td>sn2010kb</td>\n",
       "      <td>object</td>\n",
       "      <td>84</td>\n",
       "      <td>125.20208</td>\n",
       "      <td>35.88794</td>\n",
       "      <td>2014-11-21</td>\n",
       "      <td>15:25:59.53</td>\n",
       "      <td>600.0</td>\n",
       "      <td>2014B_U078D</td>\n",
       "      <td>UCB</td>\n",
       "      <td>Filippenko</td>\n",
       "      <td>Hosts and Environments of Nearby Fast-Ejecta C...</td>\n",
       "      <td>https://koa.ipac.caltech.edu/cgi-bin/getKOA/np...</td>\n",
       "    </tr>\n",
       "    <tr>\n",
       "      <th>118448</th>\n",
       "      <td>DE.20141121.56231.fits</td>\n",
       "      <td>DEIMOS</td>\n",
       "      <td>sn2010kb</td>\n",
       "      <td>object</td>\n",
       "      <td>85</td>\n",
       "      <td>125.20208</td>\n",
       "      <td>35.88794</td>\n",
       "      <td>2014-11-21</td>\n",
       "      <td>15:37:11.28</td>\n",
       "      <td>600.0</td>\n",
       "      <td>2014B_U078D</td>\n",
       "      <td>UCB</td>\n",
       "      <td>Filippenko</td>\n",
       "      <td>Hosts and Environments of Nearby Fast-Ejecta C...</td>\n",
       "      <td>https://koa.ipac.caltech.edu/cgi-bin/getKOA/np...</td>\n",
       "    </tr>\n",
       "  </tbody>\n",
       "</table>\n",
       "</div>"
      ],
      "text/plain": [
       "                         koaid instrument  targname koaimtyp  frameno  \\\n",
       "118447  DE.20141121.55559.fits     DEIMOS  sn2010kb   object       84   \n",
       "118448  DE.20141121.56231.fits     DEIMOS  sn2010kb   object       85   \n",
       "\n",
       "               ra       dec    date_obs           ut  elaptime        semid  \\\n",
       "118447  125.20208  35.88794  2014-11-21  15:25:59.53     600.0  2014B_U078D   \n",
       "118448  125.20208  35.88794  2014-11-21  15:37:11.28     600.0  2014B_U078D   \n",
       "\n",
       "       proginst      progpi  \\\n",
       "118447      UCB  Filippenko   \n",
       "118448      UCB  Filippenko   \n",
       "\n",
       "                                                 progtitl  \\\n",
       "118447  Hosts and Environments of Nearby Fast-Ejecta C...   \n",
       "118448  Hosts and Environments of Nearby Fast-Ejecta C...   \n",
       "\n",
       "                                                  fileurl  \n",
       "118447  https://koa.ipac.caltech.edu/cgi-bin/getKOA/np...  \n",
       "118448  https://koa.ipac.caltech.edu/cgi-bin/getKOA/np...  "
      ]
     },
     "execution_count": 95,
     "metadata": {},
     "output_type": "execute_result"
    }
   ],
   "source": [
    "deimosSNList[deimosSNList.targname.str.contains('10kb',na=False)]"
   ]
  },
  {
   "cell_type": "code",
   "execution_count": 84,
   "metadata": {},
   "outputs": [],
   "source": [
    "deimosFoundIIn = pd.concat(deimosIInList)"
   ]
  },
  {
   "cell_type": "code",
   "execution_count": 91,
   "metadata": {},
   "outputs": [
    {
     "data": {
      "text/plain": [
       "array(['SN 2017gas', 'sn2017hcc', 'SN2008S', 'SN2017eni', 'SN2010mc',\n",
       "       'SN1999el', 'SN2015bf', 'SN2012ca', 'SN 2012ab', 'SN2012ab-Host',\n",
       "       'SN2011ib', 'sn2010kb', 'SN2013dn', 'SN2013cj', 'SN2013dz',\n",
       "       'SN 2008gm', 'SN 2008en', 'SN2011iw', 'sn 07K  17.2 II',\n",
       "       'sn 06tf 17.2 II', 'sn 06tf 17.5 II', 'sn 06tf 18.0 II',\n",
       "       'sn 06gy 14.2 II', 'sn 06gy 14.6 II', 'sn 06gy 15.6 II',\n",
       "       'sn 06gy 16.7 II', 'SN2011fh', 'sn2006bo', 'sn 05kd',\n",
       "       'sn 05ds 18.0 II', 'SN 2005cp', 'SN2013W', 'SN 2013W',\n",
       "       'SN2010jl 12.9 -', 'SN 2010jl', 'SN*05R 1W,3N'], dtype=object)"
      ]
     },
     "execution_count": 91,
     "metadata": {},
     "output_type": "execute_result"
    }
   ],
   "source": [
    "deimosFoundIIn.targname.unique()"
   ]
  },
  {
   "cell_type": "code",
   "execution_count": 96,
   "metadata": {},
   "outputs": [
    {
     "data": {
      "text/html": [
       "<div>\n",
       "<style scoped>\n",
       "    .dataframe tbody tr th:only-of-type {\n",
       "        vertical-align: middle;\n",
       "    }\n",
       "\n",
       "    .dataframe tbody tr th {\n",
       "        vertical-align: top;\n",
       "    }\n",
       "\n",
       "    .dataframe thead th {\n",
       "        text-align: right;\n",
       "    }\n",
       "</style>\n",
       "<table border=\"1\" class=\"dataframe\">\n",
       "  <thead>\n",
       "    <tr style=\"text-align: right;\">\n",
       "      <th></th>\n",
       "      <th>koaid</th>\n",
       "      <th>instrument</th>\n",
       "      <th>targname</th>\n",
       "      <th>koaimtyp</th>\n",
       "      <th>frameno</th>\n",
       "      <th>ra</th>\n",
       "      <th>dec</th>\n",
       "      <th>date_obs</th>\n",
       "      <th>ut</th>\n",
       "      <th>elaptime</th>\n",
       "      <th>semid</th>\n",
       "      <th>proginst</th>\n",
       "      <th>progpi</th>\n",
       "      <th>progtitl</th>\n",
       "      <th>fileurl</th>\n",
       "    </tr>\n",
       "  </thead>\n",
       "  <tbody>\n",
       "    <tr>\n",
       "      <th>118447</th>\n",
       "      <td>DE.20141121.55559.fits</td>\n",
       "      <td>DEIMOS</td>\n",
       "      <td>sn2010kb</td>\n",
       "      <td>object</td>\n",
       "      <td>84</td>\n",
       "      <td>125.20208</td>\n",
       "      <td>35.88794</td>\n",
       "      <td>2014-11-21</td>\n",
       "      <td>15:25:59.53</td>\n",
       "      <td>600.0</td>\n",
       "      <td>2014B_U078D</td>\n",
       "      <td>UCB</td>\n",
       "      <td>Filippenko</td>\n",
       "      <td>Hosts and Environments of Nearby Fast-Ejecta C...</td>\n",
       "      <td>https://koa.ipac.caltech.edu/cgi-bin/getKOA/np...</td>\n",
       "    </tr>\n",
       "    <tr>\n",
       "      <th>118448</th>\n",
       "      <td>DE.20141121.56231.fits</td>\n",
       "      <td>DEIMOS</td>\n",
       "      <td>sn2010kb</td>\n",
       "      <td>object</td>\n",
       "      <td>85</td>\n",
       "      <td>125.20208</td>\n",
       "      <td>35.88794</td>\n",
       "      <td>2014-11-21</td>\n",
       "      <td>15:37:11.28</td>\n",
       "      <td>600.0</td>\n",
       "      <td>2014B_U078D</td>\n",
       "      <td>UCB</td>\n",
       "      <td>Filippenko</td>\n",
       "      <td>Hosts and Environments of Nearby Fast-Ejecta C...</td>\n",
       "      <td>https://koa.ipac.caltech.edu/cgi-bin/getKOA/np...</td>\n",
       "    </tr>\n",
       "  </tbody>\n",
       "</table>\n",
       "</div>"
      ],
      "text/plain": [
       "                         koaid instrument  targname koaimtyp  frameno  \\\n",
       "118447  DE.20141121.55559.fits     DEIMOS  sn2010kb   object       84   \n",
       "118448  DE.20141121.56231.fits     DEIMOS  sn2010kb   object       85   \n",
       "\n",
       "               ra       dec    date_obs           ut  elaptime        semid  \\\n",
       "118447  125.20208  35.88794  2014-11-21  15:25:59.53     600.0  2014B_U078D   \n",
       "118448  125.20208  35.88794  2014-11-21  15:37:11.28     600.0  2014B_U078D   \n",
       "\n",
       "       proginst      progpi  \\\n",
       "118447      UCB  Filippenko   \n",
       "118448      UCB  Filippenko   \n",
       "\n",
       "                                                 progtitl  \\\n",
       "118447  Hosts and Environments of Nearby Fast-Ejecta C...   \n",
       "118448  Hosts and Environments of Nearby Fast-Ejecta C...   \n",
       "\n",
       "                                                  fileurl  \n",
       "118447  https://koa.ipac.caltech.edu/cgi-bin/getKOA/np...  \n",
       "118448  https://koa.ipac.caltech.edu/cgi-bin/getKOA/np...  "
      ]
     },
     "execution_count": 96,
     "metadata": {},
     "output_type": "execute_result"
    }
   ],
   "source": [
    "deimosFoundIIn[deimosFoundIIn.targname.str.contains('10kb',na=False)]"
   ]
  },
  {
   "cell_type": "code",
   "execution_count": 53,
   "metadata": {},
   "outputs": [
    {
     "data": {
      "text/plain": [
       "Index(['koaid', 'instrument', 'targname', 'koaimtyp', 'frameno', 'ra', 'dec',\n",
       "       'date_obs', 'ut', 'elaptime', 'semid', 'proginst', 'progpi', 'progtitl',\n",
       "       'fileurl'],\n",
       "      dtype='object')"
      ]
     },
     "execution_count": 53,
     "metadata": {},
     "output_type": "execute_result"
    }
   ],
   "source": [
    "deimosFoundIIn.columns"
   ]
  },
  {
   "cell_type": "code",
   "execution_count": 87,
   "metadata": {},
   "outputs": [
    {
     "data": {
      "text/plain": [
       "63"
      ]
     },
     "execution_count": 87,
     "metadata": {},
     "output_type": "execute_result"
    }
   ],
   "source": [
    "len(deimosFoundIIn)"
   ]
  },
  {
   "cell_type": "code",
   "execution_count": 92,
   "metadata": {},
   "outputs": [
    {
     "data": {
      "text/plain": [
       "array(['2018-08-18', '2017-11-16', '2017-11-13', '2017-08-18',\n",
       "       '2016-01-07', '2013-07-11', '2013-08-02', '2012-11-15',\n",
       "       '2015-05-20', '2013-02-17', '2014-11-21', '2013-10-08',\n",
       "       '2014-06-26', '2013-09-10', '2012-09-23', '2013-06-10',\n",
       "       '2007-01-22', '2007-02-16', '2007-03-17', '2006-11-24',\n",
       "       '2006-12-23', '2006-04-27', '2005-10-05', '2013-04-08',\n",
       "       '2010-11-07', '2005-02-11'], dtype=object)"
      ]
     },
     "execution_count": 92,
     "metadata": {},
     "output_type": "execute_result"
    }
   ],
   "source": [
    "deimosFoundIIn.date_obs.unique()"
   ]
  },
  {
   "cell_type": "code",
   "execution_count": 93,
   "metadata": {},
   "outputs": [],
   "source": [
    "deimosFoundIIn.to_csv('deimosFoundIIn.csv')"
   ]
  },
  {
   "cell_type": "code",
   "execution_count": 102,
   "metadata": {},
   "outputs": [
    {
     "data": {
      "text/html": [
       "<div>\n",
       "<style scoped>\n",
       "    .dataframe tbody tr th:only-of-type {\n",
       "        vertical-align: middle;\n",
       "    }\n",
       "\n",
       "    .dataframe tbody tr th {\n",
       "        vertical-align: top;\n",
       "    }\n",
       "\n",
       "    .dataframe thead th {\n",
       "        text-align: right;\n",
       "    }\n",
       "</style>\n",
       "<table border=\"1\" class=\"dataframe\">\n",
       "  <thead>\n",
       "    <tr style=\"text-align: right;\">\n",
       "      <th></th>\n",
       "      <th>koaid</th>\n",
       "      <th>instrument</th>\n",
       "      <th>targname</th>\n",
       "      <th>koaimtyp</th>\n",
       "      <th>frameno</th>\n",
       "      <th>ra</th>\n",
       "      <th>dec</th>\n",
       "      <th>date_obs</th>\n",
       "      <th>ut</th>\n",
       "      <th>elaptime</th>\n",
       "      <th>semid</th>\n",
       "      <th>proginst</th>\n",
       "      <th>progpi</th>\n",
       "      <th>progtitl</th>\n",
       "      <th>fileurl</th>\n",
       "    </tr>\n",
       "  </thead>\n",
       "  <tbody>\n",
       "    <tr>\n",
       "      <th>39045</th>\n",
       "      <td>DE.20070317.54287.fits</td>\n",
       "      <td>DEIMOS</td>\n",
       "      <td>sn 06tf 18.0 II</td>\n",
       "      <td>object</td>\n",
       "      <td>92</td>\n",
       "      <td>191.56175</td>\n",
       "      <td>11.47336</td>\n",
       "      <td>2007-03-17</td>\n",
       "      <td>15:04:47.08</td>\n",
       "      <td>257.0</td>\n",
       "      <td>2007A_U039D</td>\n",
       "      <td>UCB</td>\n",
       "      <td>Filippenko</td>\n",
       "      <td>The Early-Time Deceleration Test with Type Ia ...</td>\n",
       "      <td>https://koa.ipac.caltech.edu/cgi-bin/getKOA/np...</td>\n",
       "    </tr>\n",
       "  </tbody>\n",
       "</table>\n",
       "</div>"
      ],
      "text/plain": [
       "                        koaid instrument         targname koaimtyp  frameno  \\\n",
       "39045  DE.20070317.54287.fits     DEIMOS  sn 06tf 18.0 II   object       92   \n",
       "\n",
       "              ra       dec    date_obs           ut  elaptime        semid  \\\n",
       "39045  191.56175  11.47336  2007-03-17  15:04:47.08     257.0  2007A_U039D   \n",
       "\n",
       "      proginst      progpi                                           progtitl  \\\n",
       "39045      UCB  Filippenko  The Early-Time Deceleration Test with Type Ia ...   \n",
       "\n",
       "                                                 fileurl  \n",
       "39045  https://koa.ipac.caltech.edu/cgi-bin/getKOA/np...  "
      ]
     },
     "execution_count": 102,
     "metadata": {},
     "output_type": "execute_result"
    }
   ],
   "source": [
    "deimosFoundIIn[deimosFoundIIn.date_obs == '2007-03-17']"
   ]
  },
  {
   "cell_type": "code",
   "execution_count": null,
   "metadata": {},
   "outputs": [],
   "source": []
  }
 ],
 "metadata": {
  "kernelspec": {
   "display_name": "Python 3",
   "language": "python",
   "name": "python3"
  },
  "language_info": {
   "codemirror_mode": {
    "name": "ipython",
    "version": 3
   },
   "file_extension": ".py",
   "mimetype": "text/x-python",
   "name": "python",
   "nbconvert_exporter": "python",
   "pygments_lexer": "ipython3",
   "version": "3.7.6"
  }
 },
 "nbformat": 4,
 "nbformat_minor": 4
}
